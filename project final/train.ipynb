{
 "cells": [
  {
   "cell_type": "code",
   "execution_count": 11,
   "metadata": {},
   "outputs": [],
   "source": [
    "import tensorflow as tf\n",
    "from tensorflow.keras.layers import Conv2D, MaxPooling2D, Flatten, Dense\n",
    "from tensorflow.keras.models import Sequential\n",
    "from tensorflow.keras.preprocessing.image import ImageDataGenerator\n",
    "from sklearn.metrics import confusion_matrix\n",
    "import numpy as np\n",
    "import matplotlib.pyplot as plt"
   ]
  },
  {
   "cell_type": "code",
   "execution_count": 12,
   "metadata": {},
   "outputs": [],
   "source": [
    "# Set the directories for the training and validation datasets\n",
    "train_dir = 'dataset/train'\n",
    "val_dir = 'dataset/test'"
   ]
  },
  {
   "cell_type": "code",
   "execution_count": 13,
   "metadata": {},
   "outputs": [],
   "source": [
    "# Set the parameters for the image preprocessing\n",
    "img_width, img_height = 224, 224\n",
    "batch_size = 32"
   ]
  },
  {
   "cell_type": "code",
   "execution_count": 14,
   "metadata": {},
   "outputs": [],
   "source": [
    "# Create data generators to preprocess the images\n",
    "train_datagen = ImageDataGenerator(rescale=1./255,\n",
    "                                   shear_range=0.2,\n",
    "                                   zoom_range=0.2,\n",
    "                                   horizontal_flip=True)\n",
    "val_datagen = ImageDataGenerator(rescale=1./255)"
   ]
  },
  {
   "cell_type": "code",
   "execution_count": 15,
   "metadata": {},
   "outputs": [
    {
     "name": "stdout",
     "output_type": "stream",
     "text": [
      "Found 170 images belonging to 4 classes.\n"
     ]
    }
   ],
   "source": [
    "train_generator = train_datagen.flow_from_directory(train_dir,\n",
    "                                                    target_size=(img_width, img_height),\n",
    "                                                    batch_size=batch_size,\n",
    "                                                    class_mode='categorical')"
   ]
  },
  {
   "cell_type": "code",
   "execution_count": 16,
   "metadata": {},
   "outputs": [
    {
     "name": "stdout",
     "output_type": "stream",
     "text": [
      "Found 170 images belonging to 4 classes.\n"
     ]
    }
   ],
   "source": [
    "val_generator = val_datagen.flow_from_directory(val_dir,\n",
    "                                                target_size=(img_width, img_height),\n",
    "                                                batch_size=batch_size,\n",
    "                                                class_mode='categorical')"
   ]
  },
  {
   "cell_type": "code",
   "execution_count": 17,
   "metadata": {},
   "outputs": [],
   "source": [
    "# Define the CNN architecture\n",
    "model = Sequential([\n",
    "    Conv2D(32, (3, 3), activation='relu', input_shape=(img_width, img_height, 3)),\n",
    "    MaxPooling2D((2, 2)),\n",
    "    Conv2D(64, (3, 3), activation='relu'),\n",
    "    MaxPooling2D((2, 2)),\n",
    "    Conv2D(128, (3, 3), activation='relu'),\n",
    "    MaxPooling2D((2, 2)),\n",
    "    Flatten(),\n",
    "    Dense(128, activation='relu'),\n",
    "    Dense(4, activation='softmax')\n",
    "])"
   ]
  },
  {
   "cell_type": "code",
   "execution_count": 18,
   "metadata": {},
   "outputs": [
    {
     "name": "stdout",
     "output_type": "stream",
     "text": [
      "Model: \"sequential_1\"\n",
      "_________________________________________________________________\n",
      "Layer (type)                 Output Shape              Param #   \n",
      "=================================================================\n",
      "conv2d_3 (Conv2D)            (None, 222, 222, 32)      896       \n",
      "_________________________________________________________________\n",
      "max_pooling2d_3 (MaxPooling2 (None, 111, 111, 32)      0         \n",
      "_________________________________________________________________\n",
      "conv2d_4 (Conv2D)            (None, 109, 109, 64)      18496     \n",
      "_________________________________________________________________\n",
      "max_pooling2d_4 (MaxPooling2 (None, 54, 54, 64)        0         \n",
      "_________________________________________________________________\n",
      "conv2d_5 (Conv2D)            (None, 52, 52, 128)       73856     \n",
      "_________________________________________________________________\n",
      "max_pooling2d_5 (MaxPooling2 (None, 26, 26, 128)       0         \n",
      "_________________________________________________________________\n",
      "flatten_1 (Flatten)          (None, 86528)             0         \n",
      "_________________________________________________________________\n",
      "dense_2 (Dense)              (None, 128)               11075712  \n",
      "_________________________________________________________________\n",
      "dense_3 (Dense)              (None, 4)                 516       \n",
      "=================================================================\n",
      "Total params: 11,169,476\n",
      "Trainable params: 11,169,476\n",
      "Non-trainable params: 0\n",
      "_________________________________________________________________\n"
     ]
    }
   ],
   "source": [
    "model.summary()"
   ]
  },
  {
   "cell_type": "code",
   "execution_count": 19,
   "metadata": {},
   "outputs": [],
   "source": [
    "# Compile the model\n",
    "model.compile(optimizer='adam',\n",
    "              loss='categorical_crossentropy',\n",
    "              metrics=['accuracy'])"
   ]
  },
  {
   "cell_type": "code",
   "execution_count": null,
   "metadata": {},
   "outputs": [
    {
     "name": "stdout",
     "output_type": "stream",
     "text": [
      "Epoch 1/50\n",
      "6/6 [==============================] - 13s 2s/step - loss: 1.4585 - accuracy: 0.4353 - val_loss: 1.0501 - val_accuracy: 0.6176\n",
      "Epoch 2/50\n",
      "6/6 [==============================] - 10s 2s/step - loss: 0.9070 - accuracy: 0.6882 - val_loss: 0.6546 - val_accuracy: 0.8235\n",
      "Epoch 3/50\n",
      "6/6 [==============================] - 10s 2s/step - loss: 0.6196 - accuracy: 0.7647 - val_loss: 0.5258 - val_accuracy: 0.8471\n",
      "Epoch 4/50\n",
      "6/6 [==============================] - 11s 2s/step - loss: 0.6931 - accuracy: 0.6941 - val_loss: 0.6477 - val_accuracy: 0.7353\n",
      "Epoch 5/50\n",
      "6/6 [==============================] - 9s 2s/step - loss: 0.6134 - accuracy: 0.7588 - val_loss: 0.4569 - val_accuracy: 0.8353\n",
      "Epoch 6/50\n",
      "6/6 [==============================] - 10s 2s/step - loss: 0.5356 - accuracy: 0.8118 - val_loss: 0.3161 - val_accuracy: 0.8765\n",
      "Epoch 7/50\n",
      "6/6 [==============================] - 11s 2s/step - loss: 0.2998 - accuracy: 0.8941 - val_loss: 0.1507 - val_accuracy: 0.9529\n",
      "Epoch 8/50\n",
      "6/6 [==============================] - 12s 2s/step - loss: 0.1993 - accuracy: 0.9294 - val_loss: 0.0890 - val_accuracy: 0.9765\n",
      "Epoch 9/50\n",
      "6/6 [==============================] - 10s 2s/step - loss: 0.1562 - accuracy: 0.9588 - val_loss: 0.0552 - val_accuracy: 0.9882\n",
      "Epoch 10/50\n",
      "6/6 [==============================] - 10s 2s/step - loss: 0.1298 - accuracy: 0.9412 - val_loss: 0.0576 - val_accuracy: 0.9706\n",
      "Epoch 11/50\n",
      "6/6 [==============================] - 10s 2s/step - loss: 0.0696 - accuracy: 0.9706 - val_loss: 0.0214 - val_accuracy: 1.0000\n",
      "Epoch 12/50\n",
      "6/6 [==============================] - 10s 2s/step - loss: 0.0752 - accuracy: 0.9706 - val_loss: 0.0220 - val_accuracy: 1.0000\n",
      "Epoch 13/50\n",
      "6/6 [==============================] - 12s 2s/step - loss: 0.0965 - accuracy: 0.9647 - val_loss: 0.0073 - val_accuracy: 1.0000\n",
      "Epoch 14/50\n",
      "6/6 [==============================] - 11s 2s/step - loss: 0.1093 - accuracy: 0.9647 - val_loss: 0.0090 - val_accuracy: 1.0000\n",
      "Epoch 15/50\n",
      "6/6 [==============================] - 12s 2s/step - loss: 0.1159 - accuracy: 0.9471 - val_loss: 0.0225 - val_accuracy: 1.0000\n",
      "Epoch 16/50\n",
      "6/6 [==============================] - 12s 2s/step - loss: 0.0689 - accuracy: 0.9706 - val_loss: 0.0209 - val_accuracy: 0.9941\n",
      "Epoch 17/50\n",
      "6/6 [==============================] - 12s 2s/step - loss: 0.0909 - accuracy: 0.9706 - val_loss: 0.0387 - val_accuracy: 0.9765\n",
      "Epoch 18/50\n",
      "6/6 [==============================] - 12s 2s/step - loss: 0.0726 - accuracy: 0.9647 - val_loss: 0.0058 - val_accuracy: 1.0000\n",
      "Epoch 19/50\n",
      "6/6 [==============================] - 14s 2s/step - loss: 0.0907 - accuracy: 0.9765 - val_loss: 0.1117 - val_accuracy: 0.9824\n",
      "Epoch 20/50\n",
      "6/6 [==============================] - 13s 2s/step - loss: 0.1105 - accuracy: 0.9765 - val_loss: 0.0191 - val_accuracy: 1.0000\n",
      "Epoch 21/50\n",
      "6/6 [==============================] - 12s 2s/step - loss: 0.0598 - accuracy: 0.9765 - val_loss: 0.0182 - val_accuracy: 0.9941\n",
      "Epoch 22/50\n",
      "6/6 [==============================] - 12s 2s/step - loss: 0.0418 - accuracy: 0.9882 - val_loss: 0.0153 - val_accuracy: 1.0000\n",
      "Epoch 23/50\n",
      "6/6 [==============================] - 12s 2s/step - loss: 0.0355 - accuracy: 0.9941 - val_loss: 0.0128 - val_accuracy: 1.0000\n",
      "Epoch 24/50\n",
      "6/6 [==============================] - 11s 2s/step - loss: 0.0281 - accuracy: 0.9882 - val_loss: 0.0039 - val_accuracy: 1.0000\n",
      "Epoch 25/50\n",
      "6/6 [==============================] - 12s 2s/step - loss: 0.0102 - accuracy: 1.0000 - val_loss: 0.0018 - val_accuracy: 1.0000\n",
      "Epoch 26/50\n",
      "1/6 [====>.........................] - ETA: 0s - loss: 0.0140 - accuracy: 1.0000"
     ]
    }
   ],
   "source": [
    "# Train the model\n",
    "epochs = 50\n",
    "history = model.fit(train_generator,\n",
    "                    epochs=epochs,\n",
    "                    validation_data=val_generator)"
   ]
  },
  {
   "cell_type": "code",
   "execution_count": null,
   "metadata": {},
   "outputs": [],
   "source": [
    "# Save the trained model\n",
    "model.save('fruitdisesae.h5')"
   ]
  },
  {
   "cell_type": "code",
   "execution_count": null,
   "metadata": {},
   "outputs": [],
   "source": [
    "# Plot the accuracy and loss curves\n",
    "acc = history.history['accuracy']\n",
    "val_acc = history.history['val_accuracy']\n",
    "loss = history.history['loss']\n",
    "val_loss = history.history['val_loss']"
   ]
  },
  {
   "cell_type": "code",
   "execution_count": null,
   "metadata": {},
   "outputs": [],
   "source": [
    "epochs_range = range(epochs)"
   ]
  },
  {
   "cell_type": "code",
   "execution_count": null,
   "metadata": {},
   "outputs": [],
   "source": [
    "plt.figure(figsize=(8, 8))\n",
    "plt.subplot(2, 1, 1)\n",
    "plt.plot(epochs_range, acc, label='Training Accuracy')\n",
    "plt.plot(epochs_range, val_acc, label='Validation Accuracy')\n",
    "plt.legend(loc='lower right')\n",
    "plt.title('Training and Validation Accuracy')"
   ]
  },
  {
   "cell_type": "code",
   "execution_count": null,
   "metadata": {},
   "outputs": [],
   "source": [
    "plt.subplot(2, 1, 2)\n",
    "plt.plot(epochs_range, loss, label='Training Loss')\n",
    "plt.plot(epochs_range, val_loss, label='Validation Loss')\n",
    "plt.legend(loc='upper right')\n",
    "plt.title('Training and Validation Loss')\n",
    "plt.show()"
   ]
  },
  {
   "cell_type": "code",
   "execution_count": null,
   "metadata": {},
   "outputs": [],
   "source": [
    "import numpy as np\n",
    "from sklearn.metrics import confusion_matrix\n",
    "from sklearn.utils.multiclass import unique_labels\n",
    "import matplotlib.pyplot as plt\n",
    "\n",
    "# Generate predictions and compute the confusion matrix\n",
    "Y_pred = model.predict(val_generator)\n",
    "y_pred = np.argmax(Y_pred, axis=1)\n",
    "cm = confusion_matrix(val_generator.classes, y_pred)\n",
    "\n",
    "# Define class labels\n",
    "class_names = ['bacterial blight', 'borer', 'cercospora','healthy']\n",
    "\n",
    "# Plot the confusion matrix\n",
    "fig, ax = plt.subplots()\n",
    "im = ax.imshow(cm, interpolation='nearest', cmap=plt.cm.Blues)\n",
    "ax.figure.colorbar(im, ax=ax)\n",
    "# Set the x-axis and y-axis labels\n",
    "ax.set(xticks=np.arange(cm.shape[1]),\n",
    "       yticks=np.arange(cm.shape[0]),\n",
    "       xticklabels=class_names, yticklabels=class_names,\n",
    "       xlabel='Predicted label', ylabel='True label')\n",
    "# Rotate the x-axis labels to vertical orientation\n",
    "plt.setp(ax.get_xticklabels(), rotation=90, ha=\"right\",\n",
    "         rotation_mode=\"anchor\")\n",
    "# Loop over the data and annotate each cell with its value\n",
    "for i in range(cm.shape[0]):\n",
    "    for j in range(cm.shape[1]):\n",
    "        ax.text(j, i, format(cm[i, j], 'd'),\n",
    "                ha=\"center\", va=\"center\",\n",
    "                color=\"white\" if cm[i, j] > cm.max() / 2. else \"black\")\n",
    "# Add a title to the plot\n",
    "ax.set_title(\"Confusion matrix\")\n",
    "fig.tight_layout()\n",
    "plt.show()\n"
   ]
  },
  {
   "cell_type": "code",
   "execution_count": null,
   "metadata": {},
   "outputs": [],
   "source": [
    "from sklearn.metrics import classification_report\n",
    "\n",
    "# Generate predictions\n",
    "Y_pred = model.predict(val_generator)\n",
    "y_pred = np.argmax(Y_pred, axis=1)\n",
    "\n",
    "# Get the class labels\n",
    "class_labels = list(val_generator.class_indices.keys())\n",
    "\n",
    "# Generate the classification report\n",
    "report = classification_report(val_generator.classes, y_pred, target_names=class_labels)\n",
    "print(report)\n"
   ]
  },
  {
   "cell_type": "code",
   "execution_count": null,
   "metadata": {},
   "outputs": [],
   "source": [
    "# Get the class labels\n",
    "class_labels = list(val_generator.class_indices.keys())\n",
    "\n",
    "# Get the class-wise accuracy values\n",
    "class_wise_accuracy = cm.diagonal() / cm.sum(axis=1)\n",
    "\n",
    "# Create a bar chart\n",
    "plt.bar(class_labels, class_wise_accuracy)\n",
    "plt.title('Accuracy by Class')\n",
    "plt.xlabel('Class')\n",
    "plt.ylabel('Accuracy')\n",
    "plt.show()\n"
   ]
  },
  {
   "cell_type": "code",
   "execution_count": null,
   "metadata": {},
   "outputs": [],
   "source": [
    "# Evaluate the model on the validation data\n",
    "_, accuracy = model.evaluate(val_generator)\n",
    "\n",
    "# Print the validation accuracy\n",
    "print('Validation Accuracy: %.2f' % (accuracy*100))\n"
   ]
  },
  {
   "cell_type": "code",
   "execution_count": null,
   "metadata": {},
   "outputs": [],
   "source": [
    "# Get the accuracy from the history object\n",
    "accuracy = history.history['accuracy'][-1]\n",
    "\n",
    "# Print the accuracy to the console\n",
    "print(\"Accuracy: {:.2f}%\".format(accuracy * 100))"
   ]
  }
 ],
 "metadata": {
  "kernelspec": {
   "display_name": "Python 3 (ipykernel)",
   "language": "python",
   "name": "python3"
  },
  "language_info": {
   "codemirror_mode": {
    "name": "ipython",
    "version": 3
   },
   "file_extension": ".py",
   "mimetype": "text/x-python",
   "name": "python",
   "nbconvert_exporter": "python",
   "pygments_lexer": "ipython3",
   "version": "3.7.9"
  }
 },
 "nbformat": 4,
 "nbformat_minor": 2
}
